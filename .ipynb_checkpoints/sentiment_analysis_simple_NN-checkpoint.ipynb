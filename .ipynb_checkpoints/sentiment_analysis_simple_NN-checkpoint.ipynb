{
 "cells": [
  {
   "cell_type": "markdown",
   "metadata": {},
   "source": [
    "The aim is to train a neural network that will detect whether the movie review is positive or negative. This problem is popularly known as sentiment analysis. For training the neural network, IMDB dataset is used. IMDB dataset has 50K reviews which are divided equally into train and test set. Each set contains equal numbers of poitive and negative reviews.\n",
    "\n",
    "IMDB dataset is provided with the keras so, you can directly use it without downloading it separately.\n",
    "\n",
    "Also note that this is a binary classification problem."
   ]
  },
  {
   "cell_type": "code",
   "execution_count": null,
   "metadata": {},
   "outputs": [],
   "source": [
    "# import the dataset\n",
    "from keras.datasets import imdb\n",
    "\n",
    "# load the data using load_data()\n",
    "(train_data, train_labels), (test_data, test_labels) = imdb.load_data(num_words=10000)"
   ]
  }
 ],
 "metadata": {
  "kernelspec": {
   "display_name": "Python 3",
   "language": "python",
   "name": "python3"
  },
  "language_info": {
   "codemirror_mode": {
    "name": "ipython",
    "version": 3
   },
   "file_extension": ".py",
   "mimetype": "text/x-python",
   "name": "python",
   "nbconvert_exporter": "python",
   "pygments_lexer": "ipython3",
   "version": "3.6.3"
  }
 },
 "nbformat": 4,
 "nbformat_minor": 2
}
