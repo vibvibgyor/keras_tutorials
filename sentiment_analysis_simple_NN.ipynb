{
 "cells": [
  {
   "cell_type": "markdown",
   "metadata": {},
   "source": [
    "The aim is to train a neural network that will detect whether the movie review is positive or negative. This problem is popularly known as sentiment analysis. For training the neural network, IMDB dataset is used. IMDB dataset has 50K reviews which are divided equally into train and test set. Each set contains equal numbers of poitive and negative reviews.\n",
    "\n",
    "IMDB dataset is provided with the keras so, you can directly use it without downloading it separately.\n",
    "\n",
    "Also note that this is a binary classification problem."
   ]
  },
  {
   "cell_type": "code",
   "execution_count": 1,
   "metadata": {},
   "outputs": [
    {
     "name": "stderr",
     "output_type": "stream",
     "text": [
      "Using TensorFlow backend.\n",
      "/home/vibhanshu/anaconda3/envs/tensorflow/lib/python3.6/importlib/_bootstrap.py:219: RuntimeWarning: numpy.dtype size changed, may indicate binary incompatibility. Expected 96, got 88\n",
      "  return f(*args, **kwds)\n",
      "/home/vibhanshu/anaconda3/envs/tensorflow/lib/python3.6/importlib/_bootstrap.py:219: RuntimeWarning: numpy.dtype size changed, may indicate binary incompatibility. Expected 96, got 88\n",
      "  return f(*args, **kwds)\n"
     ]
    }
   ],
   "source": [
    "# import the dataset\n",
    "from keras.datasets import imdb\n",
    "\n",
    "# load the data using load_data()\n",
    "(train_data, train_labels), (test_data, test_labels) = imdb.load_data(num_words=10000)"
   ]
  },
  {
   "cell_type": "markdown",
   "metadata": {},
   "source": [
    "Note that the argument num_words=10000 means that only top 10K, frequently occuring words from the dataset. The reason for picking only top 10K words is that, the vector size will not be very large.\n",
    "\n",
    "The data is encoded as Numpy arrays. Let's look at the shape and length of these arrays."
   ]
  },
  {
   "cell_type": "code",
   "execution_count": 2,
   "metadata": {},
   "outputs": [
    {
     "name": "stdout",
     "output_type": "stream",
     "text": [
      "The shape of the training data:  (25000,)\n",
      "The shape of the training labels:  (25000,)\n",
      "The shape of the testing data:  (25000,)\n",
      "The shape of the testing labels:  (25000,)\n",
      "The length of the training data:  25000\n",
      "The length of the training labels:  25000\n",
      "The length of the testing data:  25000\n",
      "The length of the testing labels:  25000\n"
     ]
    }
   ],
   "source": [
    "print('The shape of the training data: ', train_data.shape)\n",
    "print('The shape of the training labels: ', train_labels.shape)\n",
    "print('The shape of the testing data: ', test_data.shape)\n",
    "print('The shape of the testing labels: ', test_labels.shape)\n",
    "print('The length of the training data: ', len(train_data))\n",
    "print('The length of the training labels: ', len(train_labels))\n",
    "print('The length of the testing data: ', len(test_data))\n",
    "print('The length of the testing labels: ', len(test_labels))"
   ]
  },
  {
   "cell_type": "markdown",
   "metadata": {},
   "source": [
    "It can be seen that the length of train_data and test_data is 25000, that means it has 25000 reviews data. The length of train_labels and test_labels is also 25000 which is obvious as each data point corresponds to a single label. Now, let's look at the contents of the label. You will find that the labels are in the form of 0s and 1s. 0 stands for negative review while 1 stands for positive review."
   ]
  },
  {
   "cell_type": "code",
   "execution_count": 3,
   "metadata": {},
   "outputs": [
    {
     "data": {
      "text/plain": [
       "array([1, 0, 0, ..., 0, 1, 0])"
      ]
     },
     "execution_count": 3,
     "metadata": {},
     "output_type": "execute_result"
    }
   ],
   "source": [
    "train_labels"
   ]
  },
  {
   "cell_type": "code",
   "execution_count": 4,
   "metadata": {},
   "outputs": [
    {
     "data": {
      "text/plain": [
       "array([0, 1, 1, ..., 0, 0, 0])"
      ]
     },
     "execution_count": 4,
     "metadata": {},
     "output_type": "execute_result"
    }
   ],
   "source": [
    "test_labels"
   ]
  },
  {
   "cell_type": "markdown",
   "metadata": {},
   "source": [
    "Since, the train_data and test_data contains the numbers, they can be converted back to sentences."
   ]
  },
  {
   "cell_type": "code",
   "execution_count": 5,
   "metadata": {},
   "outputs": [],
   "source": [
    "word_index = imdb.get_word_index()\n",
    "reverse_word_index = dict(\n",
    "    [(value, key) for (key, value) in word_index.items()])\n",
    "decoded_review = ' '.join(\n",
    "    [reverse_word_index.get(i - 3, '?') for i in train_data[0]])"
   ]
  },
  {
   "cell_type": "markdown",
   "metadata": {},
   "source": [
    "Here, word_index is a dictionary that stores the mappings of words with the numbers.\n",
    "reverse_word_index stores the reverse dictionary.\n",
    "\n",
    "decoded_review stores the review in english for train_data[0]. Note that the indices are offset by 3 because 0, 1, and 2 are reserved indices for “padding,” “start of sequence,” and “unknown.”\n",
    "\n",
    "Now let's first build our neural network (or the model) for this classification task. Then the above data will be fed to the model and lastly, the model will be tested on the test data to see if the model is correctly trained."
   ]
  },
  {
   "cell_type": "code",
   "execution_count": 6,
   "metadata": {},
   "outputs": [],
   "source": [
    "# import models and layers to define the model\n",
    "from keras import models\n",
    "from keras import layers\n",
    "\n",
    "# sequential network is used\n",
    "model = models.Sequential()\n",
    "\n",
    "# add 3 layers\n",
    "model.add(layers.Dense(16, activation='relu', input_shape=(10000,)))\n",
    "model.add(layers.Dense(16, activation='relu'))\n",
    "model.add(layers.Dense(1, activation='sigmoid'))"
   ]
  },
  {
   "cell_type": "markdown",
   "metadata": {},
   "source": [
    "``` model = models.Sequential() ``` means that the model used is Sequential. Other types of models are also there. We will look into them in other tutorials.\n",
    "\n",
    "``` model.add(layers.Dense(16, activation='relu', input_shape=(10000,))) ``` means that the first layer that we have added is of type Dense and it contains 16 units. They are Densely connected (also known as fully connected layers). The activation function used is relu (Rectilinear unit). The shape of the input to this layer is of the form (10000,). The number 10000 is the input_shape because 10000 most frequent words are used only.\n",
    "\n",
    "``` model.add(layers.Dense(16, activation='relu')) ``` means that the next layer that we have added is of type Dense and it contains 16 units. We are not required to add input_shape argument from second layer onwards, keras will understand the input_shape itself from the first layer's architecture.\n",
    "\n",
    "```model.add(layers.Dense(1, activation='sigmoid')) ``` this is the final layer. The activation function used is sigmoid. Sigmoid function is used because it outputs either 1 or 0, which is required for one class classification or the binary classification.\n",
    "\n",
    "Now, let's compile the model by using appropriate optimizer, loss function and evaluation metric."
   ]
  },
  {
   "cell_type": "code",
   "execution_count": 7,
   "metadata": {},
   "outputs": [],
   "source": [
    "model.compile(optimizer='rmsprop', loss='binary_crossentropy', metrics=['accuracy'])"
   ]
  },
  {
   "cell_type": "markdown",
   "metadata": {},
   "source": [
    "The model is ready now. We'll just need to feed the data into the model. The list of integers cannot be fed into the model directly. Integers needs to be converted into tensors. One way is to pad each review so that all have the same length and then using embedding layer that can take these integers directly. But, let's do it in other way. One-hot encode (only one value in each row is 1 and rest are 0s) the data so that it is in the form of 0 and 1. This data can directly be fed into the first layer of the network."
   ]
  },
  {
   "cell_type": "code",
   "execution_count": 8,
   "metadata": {},
   "outputs": [
    {
     "name": "stdout",
     "output_type": "stream",
     "text": [
      "[0. 1. 1. ... 0. 0. 0.]\n"
     ]
    }
   ],
   "source": [
    "import numpy as np\n",
    "\n",
    "def vectorize_sequence(sequences, dimesion=10000): \n",
    "    # dimension=10000 because we have used 10000 words only while loading the data\n",
    "    results = np.zeros((len(sequences), dimesion))\n",
    "    for i, sequence in enumerate(sequences):\n",
    "        results[i, sequence] = 1\n",
    "    return results\n",
    "\n",
    "x_train = vectorize_sequence(train_data)\n",
    "x_test = vectorize_sequence(test_data)\n",
    "print(x_train[0])\n",
    "\n",
    "# convert your binary labels to float\n",
    "y_train = np.asarray(train_labels).astype('float32')\n",
    "y_test = np.asarray(test_labels).astype('float32')"
   ]
  },
  {
   "cell_type": "markdown",
   "metadata": {},
   "source": [
    "To see if the model is overfitting or not, let's keep a validation set of size 10K as well."
   ]
  },
  {
   "cell_type": "code",
   "execution_count": 9,
   "metadata": {},
   "outputs": [],
   "source": [
    "x_val = x_train[:10000]\n",
    "partial_x_train = x_train[10000:]\n",
    "y_val = y_train[:10000]\n",
    "partial_y_train = y_train[10000:]"
   ]
  },
  {
   "cell_type": "markdown",
   "metadata": {},
   "source": [
    "Our data is ready, now let's train the model for 20 epochs. The fit function returns the history object which conatins a history dictionary. This dictionary conatins all the information of each epoch."
   ]
  },
  {
   "cell_type": "code",
   "execution_count": 10,
   "metadata": {},
   "outputs": [
    {
     "name": "stdout",
     "output_type": "stream",
     "text": [
      "Train on 15000 samples, validate on 10000 samples\n",
      "Epoch 1/20\n",
      "15000/15000 [==============================] - 250s 17ms/step - loss: 0.5090 - acc: 0.7815 - val_loss: 0.3793 - val_acc: 0.8693\n",
      "Epoch 2/20\n",
      "15000/15000 [==============================] - 5s 325us/step - loss: 0.3006 - acc: 0.9049 - val_loss: 0.3003 - val_acc: 0.8894\n",
      "Epoch 3/20\n",
      " 1536/15000 [==>...........................] - ETA: 11s - loss: 0.2227 - acc: 0.9329"
     ]
    },
    {
     "name": "stderr",
     "output_type": "stream",
     "text": [
      "/home/vibhanshu/anaconda3/envs/tensorflow/lib/python3.6/site-packages/keras/callbacks.py:120: UserWarning: Method on_batch_end() is slow compared to the batch update (0.200786). Check your callbacks.\n",
      "  % delta_t_median)\n",
      "/home/vibhanshu/anaconda3/envs/tensorflow/lib/python3.6/site-packages/keras/callbacks.py:120: UserWarning: Method on_batch_end() is slow compared to the batch update (0.101019). Check your callbacks.\n",
      "  % delta_t_median)\n"
     ]
    },
    {
     "name": "stdout",
     "output_type": "stream",
     "text": [
      "15000/15000 [==============================] - 4s 266us/step - loss: 0.2180 - acc: 0.9285 - val_loss: 0.3082 - val_acc: 0.8720\n",
      "Epoch 4/20\n",
      "15000/15000 [==============================] - 3s 193us/step - loss: 0.1751 - acc: 0.9434 - val_loss: 0.2837 - val_acc: 0.8836\n",
      "Epoch 5/20\n",
      "15000/15000 [==============================] - 3s 193us/step - loss: 0.1426 - acc: 0.9542 - val_loss: 0.2842 - val_acc: 0.8872\n",
      "Epoch 6/20\n",
      "15000/15000 [==============================] - 3s 203us/step - loss: 0.1150 - acc: 0.9652 - val_loss: 0.3140 - val_acc: 0.8779\n",
      "Epoch 7/20\n",
      "15000/15000 [==============================] - 3s 215us/step - loss: 0.0978 - acc: 0.9707 - val_loss: 0.3128 - val_acc: 0.8843\n",
      "Epoch 8/20\n",
      "15000/15000 [==============================] - 3s 205us/step - loss: 0.0806 - acc: 0.9765 - val_loss: 0.3861 - val_acc: 0.8651\n",
      "Epoch 9/20\n",
      "15000/15000 [==============================] - 3s 214us/step - loss: 0.0660 - acc: 0.9821 - val_loss: 0.3638 - val_acc: 0.8779\n",
      "Epoch 10/20\n",
      "15000/15000 [==============================] - 4s 235us/step - loss: 0.0558 - acc: 0.9853 - val_loss: 0.3887 - val_acc: 0.8785\n",
      "Epoch 11/20\n",
      "15000/15000 [==============================] - 3s 231us/step - loss: 0.0420 - acc: 0.9903 - val_loss: 0.4177 - val_acc: 0.8779\n",
      "Epoch 12/20\n",
      "15000/15000 [==============================] - 3s 203us/step - loss: 0.0374 - acc: 0.9915 - val_loss: 0.4537 - val_acc: 0.8719\n",
      "Epoch 13/20\n",
      "15000/15000 [==============================] - 3s 207us/step - loss: 0.0290 - acc: 0.9931 - val_loss: 0.4757 - val_acc: 0.8727\n",
      "Epoch 14/20\n",
      "15000/15000 [==============================] - 3s 205us/step - loss: 0.0238 - acc: 0.9954 - val_loss: 0.5079 - val_acc: 0.8719\n",
      "Epoch 15/20\n",
      "15000/15000 [==============================] - 4s 243us/step - loss: 0.0180 - acc: 0.9977 - val_loss: 0.5363 - val_acc: 0.8717\n",
      "Epoch 16/20\n",
      "15000/15000 [==============================] - 3s 211us/step - loss: 0.0182 - acc: 0.9962 - val_loss: 0.5687 - val_acc: 0.8703\n",
      "Epoch 17/20\n",
      "15000/15000 [==============================] - 3s 207us/step - loss: 0.0097 - acc: 0.9995 - val_loss: 0.6309 - val_acc: 0.8623\n",
      "Epoch 18/20\n",
      "15000/15000 [==============================] - 3s 206us/step - loss: 0.0134 - acc: 0.9969 - val_loss: 0.6392 - val_acc: 0.8677\n",
      "Epoch 19/20\n",
      "15000/15000 [==============================] - 3s 212us/step - loss: 0.0061 - acc: 0.9995 - val_loss: 0.7309 - val_acc: 0.8571\n",
      "Epoch 20/20\n",
      "15000/15000 [==============================] - 3s 215us/step - loss: 0.0046 - acc: 0.9998 - val_loss: 0.7154 - val_acc: 0.8628\n",
      "dict_keys(['val_loss', 'val_acc', 'loss', 'acc'])\n"
     ]
    }
   ],
   "source": [
    "history = model.fit(partial_x_train, partial_y_train, epochs=20, batch_size=512, validation_data=(x_val, y_val))\n",
    "\n",
    "# values in the history dictionary\n",
    "history_dict = history.history\n",
    "print(history_dict.keys())"
   ]
  },
  {
   "cell_type": "markdown",
   "metadata": {},
   "source": [
    "To see the loss, validation loss, accuracy and validation accuracy we can use the history object. The plot can give us the better understanding about it. Let's use matplotlib to plot this data"
   ]
  },
  {
   "cell_type": "code",
   "execution_count": 15,
   "metadata": {},
   "outputs": [
    {
     "data": {
      "image/png": "[encoded data removed]",
      "text/plain": [
       "<Figure size 432x288 with 1 Axes>"
      ]
     },
     "metadata": {},
     "output_type": "display_data"
    },
    {
     "data": {
      "image/png": "[encoded data removed]",
      "text/plain": [
       "<Figure size 432x288 with 1 Axes>"
      ]
     },
     "metadata": {},
     "output_type": "display_data"
    }
   ],
   "source": [
    "import matplotlib.pyplot as plt\n",
    "\n",
    "# following line contains a 'magic function' to plot figures on jupyter notebooks\n",
    "%matplotlib inline \n",
    "\n",
    "loss_values = history_dict['loss']\n",
    "val_loss_values = history_dict['val_loss']\n",
    "acc_values = history_dict['acc']\n",
    "val_acc_values = history_dict['val_acc']\n",
    "\n",
    "epochs = range(1, len(loss_values) + 1)\n",
    "\n",
    "plt.figure(0)\n",
    "plt.plot(epochs, loss_values, 'g*', label='Training Loss')\n",
    "plt.plot(epochs, val_loss_values, 'r', label='Validation Loss')\n",
    "plt.title('Training and validation loss')\n",
    "plt.xlabel('Epochs')\n",
    "plt.ylabel('Loss')\n",
    "plt.legend()\n",
    "plt.show()\n",
    "\n",
    "plt.figure(1)\n",
    "plt.plot(epochs, acc_values, 'g*', label='Training acc')\n",
    "plt.plot(epochs, val_acc_values, 'r', label='Validation acc')\n",
    "plt.title('Training and validation acc')\n",
    "plt.xlabel('Epochs')\n",
    "plt.ylabel('Accuracy')\n",
    "plt.legend()\n",
    "plt.show()"
   ]
  },
  {
   "cell_type": "markdown",
   "metadata": {},
   "source": [
    "Accuracy should increase and loss should decrease after every iteration which can be clearly observed in training loss and training accuracy. In case of validation accuracy and validation loss, it is not following the above thing. So, we can clearly say that this model overfits. It can be observed that the model overfits by looking at the graph by observing the the validation loss increases after 4 epochs (we are overtraining). So, now let's run the model only for 4 epochs."
   ]
  },
  {
   "cell_type": "code",
   "execution_count": 16,
   "metadata": {},
   "outputs": [
    {
     "name": "stdout",
     "output_type": "stream",
     "text": [
      "Epoch 1/4\n",
      "25000/25000 [==============================] - 68s 3ms/step - loss: 0.2141 - acc: 0.9464\n",
      "Epoch 2/4\n",
      "25000/25000 [==============================] - 4s 147us/step - loss: 0.1403 - acc: 0.9582\n",
      "Epoch 3/4\n",
      "25000/25000 [==============================] - 4s 148us/step - loss: 0.1106 - acc: 0.9671\n",
      "Epoch 4/4\n",
      "25000/25000 [==============================] - 4s 143us/step - loss: 0.0890 - acc: 0.9719\n"
     ]
    },
    {
     "data": {
      "text/plain": [
       "<keras.callbacks.History at 0x7fc6042dff98>"
      ]
     },
     "execution_count": 16,
     "metadata": {},
     "output_type": "execute_result"
    }
   ],
   "source": [
    "model.fit(x_train, y_train, epochs=4, batch_size=512)"
   ]
  },
  {
   "cell_type": "markdown",
   "metadata": {},
   "source": [
    "Now, let's run this model on test set."
   ]
  },
  {
   "cell_type": "code",
   "execution_count": 17,
   "metadata": {},
   "outputs": [
    {
     "name": "stdout",
     "output_type": "stream",
     "text": [
      "25000/25000 [==============================] - 152s 6ms/step\n",
      "[0.5074406214666367, 0.85832]\n",
      "[[0.02058934]\n",
      " [0.9999993 ]\n",
      " [0.9990823 ]\n",
      " ...\n",
      " [0.18358263]\n",
      " [0.14982063]\n",
      " [0.75615746]]\n"
     ]
    }
   ],
   "source": [
    "results = model.evaluate(x_test, y_test)\n",
    "print(results)\n",
    "\n",
    "# let's print the likelihood of each result being positive and negative\n",
    "print(model.predict(x_test))"
   ]
  },
  {
   "cell_type": "markdown",
   "metadata": {},
   "source": [
    "This model has achieved 85.8% test accuracy."
   ]
  }
 ],
 "metadata": {
  "kernelspec": {
   "display_name": "Python 3",
   "language": "python",
   "name": "python3"
  },
  "language_info": {
   "codemirror_mode": {
    "name": "ipython",
    "version": 3
   },
   "file_extension": ".py",
   "mimetype": "text/x-python",
   "name": "python",
   "nbconvert_exporter": "python",
   "pygments_lexer": "ipython3",
   "version": "3.6.4"
  }
 },
 "nbformat": 4,
 "nbformat_minor": 2
}
