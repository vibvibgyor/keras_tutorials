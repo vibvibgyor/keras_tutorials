{
 "cells": [
  {
   "cell_type": "markdown",
   "metadata": {},
   "source": [
    "The aim is to train a neural network that will predict the price of the house. This is a type of regression problem unlike previous problems that I have covered so far, which were classification problems. In regression problems, the model has to predict the continous value instead of a discrete label. For training the neural network, Boston Housing price dataset is used. This dataset consists of only 506 data points divided into 404 train and 102 test samples. The features used are area, property tax, crime rate, et cetera. The prices are in thousands of USD.\n",
    "\n",
    "This dataset is provided with the keras so, you can directly use it without downloading it separately."
   ]
  },
  {
   "cell_type": "code",
   "execution_count": 9,
   "metadata": {},
   "outputs": [],
   "source": [
    "# import the dataset\n",
    "from keras.datasets import boston_housing\n",
    "\n",
    "# load the data using load_data()\n",
    "(train_data, train_targets), (test_data, test_targets) = boston_housing.load_data()"
   ]
  },
  {
   "cell_type": "markdown",
   "metadata": {},
   "source": [
    "The data is encoded as Numpy arrays. Let's look at the shape and length of these arrays."
   ]
  },
  {
   "cell_type": "code",
   "execution_count": 10,
   "metadata": {},
   "outputs": [
    {
     "name": "stdout",
     "output_type": "stream",
     "text": [
      "The shape of the training data:  (404, 13)\n",
      "The shape of the training targets:  (404,)\n",
      "The shape of the testing data:  (102, 13)\n",
      "The shape of the testing targets:  (102,)\n",
      "The length of the training data:  404\n",
      "The length of the training targets:  404\n",
      "The length of the testing data:  102\n",
      "The length of the testing targets:  102\n"
     ]
    }
   ],
   "source": [
    "print('The shape of the training data: ', train_data.shape)\n",
    "print('The shape of the training targets: ', train_targets.shape)\n",
    "print('The shape of the testing data: ', test_data.shape)\n",
    "print('The shape of the testing targets: ', test_targets.shape)\n",
    "print('The length of the training data: ', len(train_data))\n",
    "print('The length of the training targets: ', len(train_targets))\n",
    "print('The length of the testing data: ', len(test_data))\n",
    "print('The length of the testing targets: ', len(test_targets))"
   ]
  },
  {
   "cell_type": "markdown",
   "metadata": {},
   "source": [
    "It can be seen that the shape of train_data is (404, 13) and the shape of test_data is (102,13). It means that there are 13 features like house tax, area, et cetera. Now, let's look at the contents of the label."
   ]
  },
  {
   "cell_type": "code",
   "execution_count": 11,
   "metadata": {},
   "outputs": [
    {
     "data": {
      "text/plain": [
       "array([  1.23247,   0.     ,   8.14   ,   0.     ,   0.538  ,   6.142  ,\n",
       "        91.7    ,   3.9769 ,   4.     , 307.     ,  21.     , 396.9    ,\n",
       "        18.72   ])"
      ]
     },
     "execution_count": 11,
     "metadata": {},
     "output_type": "execute_result"
    }
   ],
   "source": [
    "train_data[0]"
   ]
  },
  {
   "cell_type": "code",
   "execution_count": 12,
   "metadata": {},
   "outputs": [
    {
     "data": {
      "text/plain": [
       "15.2"
      ]
     },
     "execution_count": 12,
     "metadata": {},
     "output_type": "execute_result"
    }
   ],
   "source": [
    "train_targets[0]"
   ]
  },
  {
   "cell_type": "markdown",
   "metadata": {},
   "source": [
    "For first data point, it can be seen that there are 13 different features and corresponding to it is the price of the house in thousands of USD. In this case, it is 15.2 thousand USD.\n",
    "\n",
    "It can also be seen that the data in different column is in different range. So, let's perform feature normalization i.e., to make mean of each column as 0 and standard deviation as 1. This can be done in the following way:"
   ]
  },
  {
   "cell_type": "code",
   "execution_count": 13,
   "metadata": {},
   "outputs": [],
   "source": [
    "mean = train_data.mean(axis=0) # axis 0 means column wise\n",
    "train_data = train_data - mean\n",
    "std = train_data.std(axis=0)\n",
    "train_data = train_data/std\n",
    "test_data = test_data - mean\n",
    "test_data = test_data/std"
   ]
  },
  {
   "cell_type": "markdown",
   "metadata": {},
   "source": [
    "Note that the mean and standard deviation of training set is used for test set also. **Never** use any quantity computed on test set.\n",
    "Now let's first build our neural network (or the model) for this prediction task. Then the above data will be fed to the model and lastly, the model will be tested on the test data to see if the model is correctly trained."
   ]
  },
  {
   "cell_type": "code",
   "execution_count": 14,
   "metadata": {},
   "outputs": [],
   "source": [
    "# import models and layers to define the model\n",
    "from keras import models\n",
    "from keras import layers\n",
    "\n",
    "# sequential network is used\n",
    "model = models.Sequential()\n",
    "\n",
    "# add 3 layers\n",
    "model.add(layers.Dense(64, activation='relu', input_shape=(train_data.shape[1],))) # input_shape=(13,)\n",
    "model.add(layers.Dense(64, activation='relu'))\n",
    "model.add(layers.Dense(1))\n",
    "model.compile(optimizer='rmsprop', loss='mse', metrics=['mae'])"
   ]
  },
  {
   "cell_type": "markdown",
   "metadata": {},
   "source": [
    "``` model = models.Sequential() ``` means that the model used is Sequential. Other types of models are also there. We will look into them in other tutorials.\n",
    "\n",
    "``` model.add(layers.Dense(64, activation='relu', input_shape=(train_data.shape[1],))) ``` means that the first layer that we have added is of type Dense and it contains 64 units. They are Densely connected (also known as fully connected layers). The activation function used is relu (Rectilinear unit). The shape of the input to this layer is of the form (train_data.shape[1],).\n",
    "\n",
    "``` model.add(layers.Dense(64, activation='relu')) ``` means that the next layer that we have added is of type Dense and it contains 64 units. We are not required to add input_shape argument from second layer onwards, keras will understand the input_shape itself from the first layer's architecture.\n",
    "\n",
    "```model.add(layers.Dense(1)) ``` this is the final layer. No activation function is used (a linear layer). Applying an activation function would constrain the range the output can take. Now, this model is free to learn output in any range.\n",
    "\n",
    "``` loss='mse' ``` 'mse' stands for [mean squared error](https://en.wikipedia.org/wiki/Mean_squared_error).\n",
    "\n",
    "``` metrics=['mae'] ``` 'mae' stands for [mean absolute error](https://en.wikipedia.org/wiki/Mean_absolute_error).\n",
    "\n",
    "\n",
    "Since, number of samples are very less for training, it would be difficult to take out the validation set from it. Let's apply K-fold validation to it."
   ]
  },
  {
   "cell_type": "code",
   "execution_count": 15,
   "metadata": {},
   "outputs": [
    {
     "name": "stdout",
     "output_type": "stream",
     "text": [
      "processing fold # 0\n",
      "processing fold # 1\n",
      "processing fold # 2\n",
      "processing fold # 3\n"
     ]
    }
   ],
   "source": [
    "import numpy as np\n",
    "\n",
    "k = 4 # k = number of folds\n",
    "num_val_samples = len(train_data) // k\n",
    "num_epochs = 500\n",
    "all_mae_histories = []\n",
    "\n",
    "for i in range(k):\n",
    "    print('processing fold #', i)\n",
    "    val_data = train_data[i * num_val_samples: (i + 1) * num_val_samples]\n",
    "    val_targets = train_targets[i * num_val_samples: (i + 1) * num_val_samples]\n",
    "    partial_train_data = np.concatenate([train_data[:i * num_val_samples], \n",
    "                                          train_data[(i + 1) * num_val_samples:]], axis=0)\n",
    "    partial_train_targets = np.concatenate([train_targets[:i * num_val_samples], \n",
    "                                             train_targets[(i + 1) * num_val_samples:]], axis=0)\n",
    "    \n",
    "    model = models.Sequential()\n",
    "    model.add(layers.Dense(64, activation='relu', input_shape=(train_data.shape[1],))) # input_shape=(13,)\n",
    "    model.add(layers.Dense(64, activation='relu'))\n",
    "    model.add(layers.Dense(1))\n",
    "    model.compile(optimizer='rmsprop', loss='mse', metrics=['mae'])\n",
    "    \n",
    "    history = model.fit(partial_train_data, partial_train_targets, validation_data=(val_data, val_targets),\n",
    "    epochs=num_epochs, batch_size=1, verbose=0)\n",
    "    mae_history = history.history['val_mean_absolute_error']\n",
    "    all_mae_histories.append(mae_history)"
   ]
  },
  {
   "cell_type": "markdown",
   "metadata": {},
   "source": [
    "Now, mean of mae of each epoch of each fold can be calculated as follows:"
   ]
  },
  {
   "cell_type": "code",
   "execution_count": 18,
   "metadata": {},
   "outputs": [],
   "source": [
    "# output of this ==> [mean_at_epoch_1, mean_at_epoch2, ...]\n",
    "average_mae_history = [np.mean([x[i] for x in all_mae_histories]) for i in range(num_epochs)]"
   ]
  },
  {
   "cell_type": "markdown",
   "metadata": {},
   "source": [
    "Now, validation plot can easily be plotted."
   ]
  },
  {
   "cell_type": "code",
   "execution_count": 25,
   "metadata": {},
   "outputs": [
    {
     "data": {
      "image/png": "[encoded data removed]",
      "text/plain": [
       "<Figure size 432x288 with 1 Axes>"
      ]
     },
     "metadata": {},
     "output_type": "display_data"
    }
   ],
   "source": [
    "import matplotlib.pyplot as plt\n",
    "\n",
    "# following line contains a 'magic function' to plot figures on jupyter notebooks\n",
    "%matplotlib inline \n",
    "\n",
    "plt.plot(range(1, len(average_mae_history) + 1), average_mae_history, 'g*')\n",
    "plt.xlabel('Epochs')\n",
    "plt.ylabel('Validation MAE')\n",
    "plt.show()"
   ]
  },
  {
   "cell_type": "markdown",
   "metadata": {},
   "source": [
    "It can be seen from the above plot that the MAE has stopped improving after 80 epochs. So, let's run the model again with 80 epochs and train it on entire data."
   ]
  },
  {
   "cell_type": "code",
   "execution_count": 27,
   "metadata": {},
   "outputs": [
    {
     "name": "stdout",
     "output_type": "stream",
     "text": [
      "102/102 [==============================] - 0s 1ms/step\n"
     ]
    },
    {
     "data": {
      "text/plain": [
       "2.582964813008028"
      ]
     },
     "execution_count": 27,
     "metadata": {},
     "output_type": "execute_result"
    }
   ],
   "source": [
    "model = models.Sequential()\n",
    "model.add(layers.Dense(64, activation='relu', input_shape=(train_data.shape[1],))) # input_shape=(13,)\n",
    "model.add(layers.Dense(64, activation='relu'))\n",
    "model.add(layers.Dense(1))\n",
    "model.compile(optimizer='rmsprop', loss='mse', metrics=['mae'])\n",
    "model.fit(train_data, train_targets, epochs=80, batch_size=16, verbose=0)\n",
    "test_mse_score, test_mae_score = model.evaluate(test_data, test_targets)\n",
    "test_mae_score"
   ]
  },
  {
   "cell_type": "markdown",
   "metadata": {},
   "source": [
    "This error means that the model still on an average gives price predictions which are off by 2.5829648 * USD 1000 = USD 2582"
   ]
  }
 ],
 "metadata": {
  "kernelspec": {
   "display_name": "Python 3",
   "language": "python",
   "name": "python3"
  },
  "language_info": {
   "codemirror_mode": {
    "name": "ipython",
    "version": 3
   },
   "file_extension": ".py",
   "mimetype": "text/x-python",
   "name": "python",
   "nbconvert_exporter": "python",
   "pygments_lexer": "ipython3",
   "version": "3.6.4"
  }
 },
 "nbformat": 4,
 "nbformat_minor": 2
}
