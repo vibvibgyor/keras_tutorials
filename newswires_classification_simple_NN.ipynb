{
 "cells": [
  {
   "cell_type": "markdown",
   "metadata": {},
   "source": [
    "The aim is to train a neural network that will classify newswires into different categories. For training the neural network, Reuters Newswire dataset is used. This dataset consists of short newswires from 46 different categories. There are 8982 train points and 2246 test points. Each class has atleast 10 samples.\n",
    "\n",
    "This dataset is provided with the keras so, you can directly use it without downloading it separately.\n",
    "\n",
    "Also note that this is a single-label, multiclass classification problem."
   ]
  },
  {
   "cell_type": "code",
   "execution_count": 2,
   "metadata": {},
   "outputs": [
    {
     "name": "stdout",
     "output_type": "stream",
     "text": [
      "Downloading data from https://s3.amazonaws.com/text-datasets/reuters.npz\n",
      "2113536/2110848 [==============================] - 15s 7us/step\n"
     ]
    }
   ],
   "source": [
    "# import the dataset\n",
    "from keras.datasets import reuters\n",
    "\n",
    "# load the data using load_data()\n",
    "(train_data, train_labels), (test_data, test_labels) = reuters.load_data(num_words=10000)"
   ]
  },
  {
   "cell_type": "markdown",
   "metadata": {},
   "source": [
    "Note that the argument num_words=10000 means that only top 10K, frequently occuring words from the dataset. The reason for picking only top 10K words is that, the vector size will not be very large.\n",
    "\n",
    "The data is encoded as Numpy arrays. Let's look at the shape and length of these arrays."
   ]
  },
  {
   "cell_type": "code",
   "execution_count": 3,
   "metadata": {},
   "outputs": [
    {
     "name": "stdout",
     "output_type": "stream",
     "text": [
      "The shape of the training data:  (8982,)\n",
      "The shape of the training labels:  (8982,)\n",
      "The shape of the testing data:  (2246,)\n",
      "The shape of the testing labels:  (2246,)\n",
      "The length of the training data:  8982\n",
      "The length of the training labels:  8982\n",
      "The length of the testing data:  2246\n",
      "The length of the testing labels:  2246\n"
     ]
    }
   ],
   "source": [
    "print('The shape of the training data: ', train_data.shape)\n",
    "print('The shape of the training labels: ', train_labels.shape)\n",
    "print('The shape of the testing data: ', test_data.shape)\n",
    "print('The shape of the testing labels: ', test_labels.shape)\n",
    "print('The length of the training data: ', len(train_data))\n",
    "print('The length of the training labels: ', len(train_labels))\n",
    "print('The length of the testing data: ', len(test_data))\n",
    "print('The length of the testing labels: ', len(test_labels))"
   ]
  },
  {
   "cell_type": "markdown",
   "metadata": {},
   "source": [
    "It can be seen that the length of train_data is 8982 and the length of test_data is 2246. The length of train_labels and test_labels is also same as corresponding train and set datasets, which is obvious as each data point corresponds to a single label. Now, let's look at the contents of the label."
   ]
  },
  {
   "cell_type": "code",
   "execution_count": 6,
   "metadata": {},
   "outputs": [
    {
     "data": {
      "text/plain": [
       "array([ 3,  4,  3, ..., 25,  3, 25])"
      ]
     },
     "execution_count": 6,
     "metadata": {},
     "output_type": "execute_result"
    }
   ],
   "source": [
    "train_labels"
   ]
  },
  {
   "cell_type": "markdown",
   "metadata": {},
   "source": [
    "Since, the train_data and test_data contains the numbers, they can be converted back to sentences."
   ]
  },
  {
   "cell_type": "code",
   "execution_count": 7,
   "metadata": {},
   "outputs": [
    {
     "name": "stdout",
     "output_type": "stream",
     "text": [
      "Downloading data from https://s3.amazonaws.com/text-datasets/reuters_word_index.json\n",
      "557056/550378 [==============================] - 5s 9us/step\n"
     ]
    }
   ],
   "source": [
    "word_index = reuters.get_word_index()\n",
    "reverse_word_index = dict(\n",
    "    [(value, key) for (key, value) in word_index.items()])\n",
    "decoded_review = ' '.join(\n",
    "    [reverse_word_index.get(i - 3, '?') for i in train_data[0]])"
   ]
  },
  {
   "cell_type": "markdown",
   "metadata": {},
   "source": [
    "Here, word_index is a dictionary that stores the mappings of words with the numbers.\n",
    "reverse_word_index stores the reverse dictionary.\n",
    "\n",
    "decoded_review stores the review in english for train_data[0]. Note that the indices are offset by 3 because 0, 1, and 2 are reserved indices for “padding,” “start of sequence,” and “unknown.”\n",
    "\n",
    "Now let's first build our neural network (or the model) for this classification task. Then the above data will be fed to the model and lastly, the model will be tested on the test data to see if the model is correctly trained."
   ]
  },
  {
   "cell_type": "code",
   "execution_count": 8,
   "metadata": {},
   "outputs": [],
   "source": [
    "# import models and layers to define the model\n",
    "from keras import models\n",
    "from keras import layers\n",
    "\n",
    "# sequential network is used\n",
    "model = models.Sequential()\n",
    "\n",
    "# add 3 layers\n",
    "model.add(layers.Dense(64, activation='relu', input_shape=(10000,)))\n",
    "model.add(layers.Dense(64, activation='relu'))\n",
    "model.add(layers.Dense(46, activation='softmax'))"
   ]
  },
  {
   "cell_type": "markdown",
   "metadata": {},
   "source": [
    "``` model = models.Sequential() ``` means that the model used is Sequential. Other types of models are also there. We will look into them in other tutorials.\n",
    "\n",
    "``` model.add(layers.Dense(64, activation='relu', input_shape=(10000,))) ``` means that the first layer that we have added is of type Dense and it contains 64 units. They are Densely connected (also known as fully connected layers). The activation function used is relu (Rectilinear unit). The shape of the input to this layer is of the form (10000,). The number 10000 is the input_shape because 10000 most frequent words are used only.\n",
    "\n",
    "``` model.add(layers.Dense(64, activation='relu')) ``` means that the next layer that we have added is of type Dense and it contains 64 units. We are not required to add input_shape argument from second layer onwards, keras will understand the input_shape itself from the first layer's architecture.\n",
    "\n",
    "```model.add(layers.Dense(46, activation='softmax')) ``` this is the final layer. The activation function used is softmax. Softmax function is used because with softmax the network will output probability distribution over 46 different classes. For every input. the network will output 46 dimentional vector.\n",
    "\n",
    "Now, let's compile the model by using appropriate optimizer, loss function and evaluation metric."
   ]
  },
  {
   "cell_type": "code",
   "execution_count": 9,
   "metadata": {},
   "outputs": [],
   "source": [
    "model.compile(optimizer='rmsprop', loss='categorical_crossentropy', metrics=['accuracy'])"
   ]
  },
  {
   "cell_type": "markdown",
   "metadata": {},
   "source": [
    "The model is ready now. We'll just need to feed the data into the model. The list of integers cannot be fed into the model directly. Integers needs to be converted into tensors. One way is to pad each review so that all have the same length and then using embedding layer that can take these integers directly. But, let's do it in other way. One-hot encode (only one value in each row is 1 and rest are 0s) the data so that it is in the form of 0 and 1. This data can directly be fed into the first layer of the network."
   ]
  },
  {
   "cell_type": "code",
   "execution_count": 10,
   "metadata": {},
   "outputs": [
    {
     "name": "stdout",
     "output_type": "stream",
     "text": [
      "[0. 1. 1. ... 0. 0. 0.]\n"
     ]
    }
   ],
   "source": [
    "import numpy as np\n",
    "\n",
    "def vectorize_sequence(sequences, dimesion=10000): \n",
    "    # dimension=10000 because we have used 10000 words only while loading the data\n",
    "    results = np.zeros((len(sequences), dimesion))\n",
    "    for i, sequence in enumerate(sequences):\n",
    "        results[i, sequence] = 1\n",
    "    return results\n",
    "\n",
    "x_train = vectorize_sequence(train_data)\n",
    "x_test = vectorize_sequence(test_data)\n",
    "print(x_train[0])"
   ]
  },
  {
   "cell_type": "markdown",
   "metadata": {},
   "source": [
    "Here, since there are 46 different labels. Let's also change it to one-hot seat form."
   ]
  },
  {
   "cell_type": "code",
   "execution_count": 11,
   "metadata": {},
   "outputs": [],
   "source": [
    "def to_one_hot(labels, dimension=46):\n",
    "    results = np.zeros((len(labels), dimension))\n",
    "    for i, label in enumerate(labels):\n",
    "        results[i, label] = 1.\n",
    "    return results\n",
    "\n",
    "one_hot_train_labels = to_one_hot(train_labels)\n",
    "one_hot_test_labels = to_one_hot(test_labels)"
   ]
  },
  {
   "cell_type": "markdown",
   "metadata": {},
   "source": [
    "To see if the model is overfitting or not, let's keep a validation set of size 1K as well."
   ]
  },
  {
   "cell_type": "code",
   "execution_count": 12,
   "metadata": {},
   "outputs": [],
   "source": [
    "x_val = x_train[:1000]\n",
    "partial_x_train = x_train[1000:]\n",
    "y_val = one_hot_train_labels[:1000]\n",
    "partial_y_train = one_hot_train_labels[1000:]"
   ]
  },
  {
   "cell_type": "markdown",
   "metadata": {},
   "source": [
    "Our data is ready, now let's train the model for 20 epochs. The fit function returns the history object which conatins a history dictionary. This dictionary conatins all the information of each epoch."
   ]
  },
  {
   "cell_type": "code",
   "execution_count": 13,
   "metadata": {},
   "outputs": [
    {
     "name": "stdout",
     "output_type": "stream",
     "text": [
      "Train on 7982 samples, validate on 1000 samples\n",
      "Epoch 1/20\n",
      "7982/7982 [==============================] - 3s 341us/step - loss: 2.5322 - acc: 0.4955 - val_loss: 1.7208 - val_acc: 0.6120\n",
      "Epoch 2/20\n",
      "7982/7982 [==============================] - 2s 205us/step - loss: 1.4452 - acc: 0.6879 - val_loss: 1.3459 - val_acc: 0.7060\n",
      "Epoch 3/20\n",
      "7982/7982 [==============================] - 2s 229us/step - loss: 1.0952 - acc: 0.7650 - val_loss: 1.1709 - val_acc: 0.7430\n",
      "Epoch 4/20\n",
      "7982/7982 [==============================] - 2s 204us/step - loss: 0.8697 - acc: 0.8165 - val_loss: 1.0802 - val_acc: 0.7580\n",
      "Epoch 5/20\n",
      "7982/7982 [==============================] - 2s 225us/step - loss: 0.7034 - acc: 0.8473 - val_loss: 0.9844 - val_acc: 0.7820\n",
      "Epoch 6/20\n",
      "7982/7982 [==============================] - 2s 267us/step - loss: 0.5667 - acc: 0.8801 - val_loss: 0.9414 - val_acc: 0.8030\n",
      "Epoch 7/20\n",
      "7982/7982 [==============================] - 2s 241us/step - loss: 0.4583 - acc: 0.9050 - val_loss: 0.9080 - val_acc: 0.8020\n",
      "Epoch 8/20\n",
      "7982/7982 [==============================] - 2s 237us/step - loss: 0.3696 - acc: 0.9230 - val_loss: 0.9353 - val_acc: 0.7900\n",
      "Epoch 9/20\n",
      "7982/7982 [==============================] - 2s 288us/step - loss: 0.3032 - acc: 0.9307 - val_loss: 0.8914 - val_acc: 0.8090\n",
      "Epoch 10/20\n",
      "7982/7982 [==============================] - 2s 221us/step - loss: 0.2539 - acc: 0.9415 - val_loss: 0.9069 - val_acc: 0.8120\n",
      "Epoch 11/20\n",
      "7982/7982 [==============================] - 2s 215us/step - loss: 0.2186 - acc: 0.9468 - val_loss: 0.9172 - val_acc: 0.8130\n",
      "Epoch 12/20\n",
      "7982/7982 [==============================] - 2s 259us/step - loss: 0.1873 - acc: 0.9510 - val_loss: 0.9054 - val_acc: 0.8130\n",
      "Epoch 13/20\n",
      "7982/7982 [==============================] - 2s 219us/step - loss: 0.1699 - acc: 0.9521 - val_loss: 0.9345 - val_acc: 0.8100\n",
      "Epoch 14/20\n",
      "7982/7982 [==============================] - 2s 244us/step - loss: 0.1537 - acc: 0.9557 - val_loss: 0.9699 - val_acc: 0.8090\n",
      "Epoch 15/20\n",
      "7982/7982 [==============================] - 2s 259us/step - loss: 0.1389 - acc: 0.9558 - val_loss: 0.9691 - val_acc: 0.8150\n",
      "Epoch 16/20\n",
      "7982/7982 [==============================] - 2s 225us/step - loss: 0.1314 - acc: 0.9564 - val_loss: 1.0243 - val_acc: 0.8040\n",
      "Epoch 17/20\n",
      "7982/7982 [==============================] - 2s 232us/step - loss: 0.1218 - acc: 0.9578 - val_loss: 1.0226 - val_acc: 0.7980\n",
      "Epoch 18/20\n",
      "7982/7982 [==============================] - 2s 228us/step - loss: 0.1198 - acc: 0.9578 - val_loss: 1.0419 - val_acc: 0.8060\n",
      "Epoch 19/20\n",
      "7982/7982 [==============================] - 2s 214us/step - loss: 0.1138 - acc: 0.9593 - val_loss: 1.0986 - val_acc: 0.7960\n",
      "Epoch 20/20\n",
      "7982/7982 [==============================] - 2s 244us/step - loss: 0.1111 - acc: 0.9592 - val_loss: 1.0702 - val_acc: 0.8020\n",
      "dict_keys(['val_loss', 'val_acc', 'loss', 'acc'])\n"
     ]
    }
   ],
   "source": [
    "history = model.fit(partial_x_train, partial_y_train, epochs=20, batch_size=512, validation_data=(x_val, y_val))\n",
    "\n",
    "# values in the history dictionary\n",
    "history_dict = history.history\n",
    "print(history_dict.keys())"
   ]
  },
  {
   "cell_type": "markdown",
   "metadata": {},
   "source": [
    "To see the loss, validation loss, accuracy and validation accuracy we can use the history object. The plot can give us the better understanding about it. Let's use matplotlib to plot this data"
   ]
  },
  {
   "cell_type": "code",
   "execution_count": 14,
   "metadata": {},
   "outputs": [
    {
     "data": {
      "image/png": "[encoded data removed]",
      "text/plain": [
       "<Figure size 432x288 with 1 Axes>"
      ]
     },
     "metadata": {},
     "output_type": "display_data"
    },
    {
     "data": {
      "image/png": "[encoded data removed]",
      "text/plain": [
       "<Figure size 432x288 with 1 Axes>"
      ]
     },
     "metadata": {},
     "output_type": "display_data"
    }
   ],
   "source": [
    "import matplotlib.pyplot as plt\n",
    "\n",
    "# following line contains a 'magic function' to plot figures on jupyter notebooks\n",
    "%matplotlib inline \n",
    "\n",
    "loss_values = history_dict['loss']\n",
    "val_loss_values = history_dict['val_loss']\n",
    "acc_values = history_dict['acc']\n",
    "val_acc_values = history_dict['val_acc']\n",
    "\n",
    "epochs = range(1, len(loss_values) + 1)\n",
    "\n",
    "plt.figure(0)\n",
    "plt.plot(epochs, loss_values, 'g*', label='Training Loss')\n",
    "plt.plot(epochs, val_loss_values, 'r', label='Validation Loss')\n",
    "plt.title('Training and validation loss')\n",
    "plt.xlabel('Epochs')\n",
    "plt.ylabel('Loss')\n",
    "plt.legend()\n",
    "plt.show()\n",
    "\n",
    "plt.figure(1)\n",
    "plt.plot(epochs, acc_values, 'g*', label='Training acc')\n",
    "plt.plot(epochs, val_acc_values, 'r', label='Validation acc')\n",
    "plt.title('Training and validation acc')\n",
    "plt.xlabel('Epochs')\n",
    "plt.ylabel('Accuracy')\n",
    "plt.legend()\n",
    "plt.show()"
   ]
  },
  {
   "cell_type": "markdown",
   "metadata": {},
   "source": [
    "Accuracy should increase and loss should decrease after every iteration which can be clearly observed in training loss and training accuracy. In case of validation accuracy and validation loss, it is not following the above thing. So, we can clearly say that this model overfits. It can be observed that the model overfits by looking at the graph by observing the the validation loss increases after 9 epochs (we are overtraining). So, now let's run the model only for 9 epochs."
   ]
  },
  {
   "cell_type": "code",
   "execution_count": 16,
   "metadata": {},
   "outputs": [
    {
     "name": "stdout",
     "output_type": "stream",
     "text": [
      "Epoch 1/9\n",
      "8982/8982 [==============================] - 2s 211us/step - loss: 0.2080 - acc: 0.9430\n",
      "Epoch 2/9\n",
      "8982/8982 [==============================] - 2s 219us/step - loss: 0.1679 - acc: 0.9473\n",
      "Epoch 3/9\n",
      "8982/8982 [==============================] - 2s 219us/step - loss: 0.1477 - acc: 0.9501\n",
      "Epoch 4/9\n",
      "8982/8982 [==============================] - 2s 212us/step - loss: 0.1352 - acc: 0.9527\n",
      "Epoch 5/9\n",
      "8982/8982 [==============================] - 2s 242us/step - loss: 0.1272 - acc: 0.9535\n",
      "Epoch 6/9\n",
      "8982/8982 [==============================] - 2s 240us/step - loss: 0.1227 - acc: 0.9541\n",
      "Epoch 7/9\n",
      "8982/8982 [==============================] - 2s 241us/step - loss: 0.1147 - acc: 0.9549\n",
      "Epoch 8/9\n",
      "8982/8982 [==============================] - 2s 202us/step - loss: 0.1137 - acc: 0.9548\n",
      "Epoch 9/9\n",
      "8982/8982 [==============================] - 2s 199us/step - loss: 0.1124 - acc: 0.9549\n"
     ]
    },
    {
     "data": {
      "text/plain": [
       "<keras.callbacks.History at 0x7f26ad95a630>"
      ]
     },
     "execution_count": 16,
     "metadata": {},
     "output_type": "execute_result"
    }
   ],
   "source": [
    "model.fit(x_train, one_hot_train_labels, epochs=9, batch_size=512)"
   ]
  },
  {
   "cell_type": "markdown",
   "metadata": {},
   "source": [
    "Now, let's run this model on test set."
   ]
  },
  {
   "cell_type": "code",
   "execution_count": 22,
   "metadata": {},
   "outputs": [
    {
     "name": "stdout",
     "output_type": "stream",
     "text": [
      "2246/2246 [==============================] - 0s 198us/step\n",
      "[1.3280488166656221, 0.7760463045679451]\n",
      "\n",
      " [[1.31513007e-05 9.92214427e-06 4.67951509e-08 ... 1.66076006e-08\n",
      "  4.09994504e-11 2.75619549e-09]\n",
      " [9.56791482e-05 5.13380335e-04 1.06426761e-08 ... 4.13002299e-10\n",
      "  8.14636824e-13 2.15868749e-06]\n",
      " [6.82167662e-03 9.44108844e-01 1.98256748e-05 ... 2.49023969e-07\n",
      "  3.04145296e-08 2.02714227e-06]\n",
      " ...\n",
      " [2.46097869e-07 5.36189054e-06 1.73073449e-08 ... 1.69060807e-10\n",
      "  3.57925634e-10 3.51220233e-11]\n",
      " [3.88024584e-03 2.75727779e-01 4.82086689e-05 ... 8.24088784e-06\n",
      "  1.83838722e-08 1.92350598e-07]\n",
      " [1.13179216e-04 3.73244703e-01 2.06927154e-02 ... 5.08885236e-08\n",
      "  2.44447813e-11 1.24915641e-06]]\n"
     ]
    }
   ],
   "source": [
    "results = model.evaluate(x_test, one_hot_test_labels)\n",
    "print(results)\n",
    "\n",
    "# let's print the likelihood of each result being belonging to which class\n",
    "predictions = model.predict(x_test)\n",
    "print('\\n', predictions)"
   ]
  },
  {
   "cell_type": "markdown",
   "metadata": {},
   "source": [
    "This model has achieved 77.6% test accuracy. Let's explore this predictions array."
   ]
  },
  {
   "cell_type": "code",
   "execution_count": 27,
   "metadata": {},
   "outputs": [
    {
     "name": "stdout",
     "output_type": "stream",
     "text": [
      "(46,)\n",
      "4\n"
     ]
    }
   ],
   "source": [
    "# shape of the prediction[0] i.e., shape of the output vector for first test input\n",
    "print(predictions[0].shape)\n",
    "\n",
    "# the class with maximum likelihood that is the predicted class\n",
    "print(np.argmax(predictions[0]))"
   ]
  }
 ],
 "metadata": {
  "kernelspec": {
   "display_name": "Python 3",
   "language": "python",
   "name": "python3"
  },
  "language_info": {
   "codemirror_mode": {
    "name": "ipython",
    "version": 3
   },
   "file_extension": ".py",
   "mimetype": "text/x-python",
   "name": "python",
   "nbconvert_exporter": "python",
   "pygments_lexer": "ipython3",
   "version": "3.6.4"
  }
 },
 "nbformat": 4,
 "nbformat_minor": 2
}
