{
 "cells": [
  {
   "cell_type": "markdown",
   "metadata": {},
   "source": [
    "This tutorial is another version of [this](https://github.com/vibvibgyor/keras_tutorials/blob/master/digit_recognition_simple_NN.ipynb) tutorial, where simple Neural network is used for training. In this tutorial [Convolutional neural network](https://en.wikipedia.org/wiki/Convolutional_neural_network) is be used. The aim is to train a convolutional neural network that will detect digits from 0-9. For training the convolutional neural network, MNIST (Modified National Institute of Standards and Technology database) dataset is used. The MNIST database of handwritten digits, has a training set of 60,000 examples, and a test set of 10,000 examples.\n",
    "\n",
    "MNIST dataset is provided with the keras so, you can directly use it without downloading it separately.\n",
    "\n",
    "Also note that this is a single label, multiclass classification problem."
   ]
  },
  {
   "cell_type": "code",
   "execution_count": 1,
   "metadata": {},
   "outputs": [
    {
     "name": "stderr",
     "output_type": "stream",
     "text": [
      "Using TensorFlow backend.\n",
      "/home/vibhanshu/anaconda3/envs/tensorflow/lib/python3.6/importlib/_bootstrap.py:219: RuntimeWarning: numpy.dtype size changed, may indicate binary incompatibility. Expected 96, got 88\n",
      "  return f(*args, **kwds)\n",
      "/home/vibhanshu/anaconda3/envs/tensorflow/lib/python3.6/importlib/_bootstrap.py:219: RuntimeWarning: numpy.dtype size changed, may indicate binary incompatibility. Expected 96, got 88\n",
      "  return f(*args, **kwds)\n"
     ]
    }
   ],
   "source": [
    "# import the dataset\n",
    "from keras.datasets import mnist\n",
    "\n",
    "# load the data using load_data()\n",
    "(train_images, train_labels), (test_images, test_labels) = mnist.load_data()"
   ]
  },
  {
   "cell_type": "markdown",
   "metadata": {},
   "source": [
    "The data is encoded as Numpy arrays. Let's look at the shape and length of these arrays."
   ]
  },
  {
   "cell_type": "code",
   "execution_count": 2,
   "metadata": {},
   "outputs": [
    {
     "name": "stdout",
     "output_type": "stream",
     "text": [
      "The shape of the training data:  (60000, 28, 28)\n",
      "The shape of the training labels:  (60000,)\n",
      "The shape of the testing data:  (10000, 28, 28)\n",
      "The shape of the testing labels:  (10000,)\n",
      "The length of the training data:  60000\n",
      "The length of the training labels:  60000\n",
      "The length of the testing data:  10000\n",
      "The length of the testing labels:  10000\n"
     ]
    }
   ],
   "source": [
    "print('The shape of the training data: ', train_images.shape)\n",
    "print('The shape of the training labels: ', train_labels.shape)\n",
    "print('The shape of the testing data: ', test_images.shape)\n",
    "print('The shape of the testing labels: ', test_labels.shape)\n",
    "print('The length of the training data: ', len(train_images))\n",
    "print('The length of the training labels: ', len(train_labels))\n",
    "print('The length of the testing data: ', len(test_images))\n",
    "print('The length of the testing labels: ', len(test_labels))"
   ]
  },
  {
   "cell_type": "markdown",
   "metadata": {},
   "source": [
    "We can see that there are 6000 images of size 28 x 28 for training and 10000 images of size 28 x 28 for testing. The shape of the train and test labels is (6000,) which means that it is a list of labels which are mapped to each image in the train and test set respectively. \n",
    "\n",
    "Now, let's look at the contents of label arrays."
   ]
  },
  {
   "cell_type": "code",
   "execution_count": 3,
   "metadata": {},
   "outputs": [
    {
     "data": {
      "text/plain": [
       "array([5, 0, 4, ..., 5, 6, 8], dtype=uint8)"
      ]
     },
     "execution_count": 3,
     "metadata": {},
     "output_type": "execute_result"
    }
   ],
   "source": [
    "train_labels"
   ]
  },
  {
   "cell_type": "code",
   "execution_count": 4,
   "metadata": {},
   "outputs": [
    {
     "data": {
      "text/plain": [
       "array([7, 2, 1, ..., 4, 5, 6], dtype=uint8)"
      ]
     },
     "execution_count": 4,
     "metadata": {},
     "output_type": "execute_result"
    }
   ],
   "source": [
    "test_labels"
   ]
  },
  {
   "cell_type": "markdown",
   "metadata": {},
   "source": [
    "It can be observed that these labels are numbers from 0-9. You can also see the images using matplotlib library."
   ]
  },
  {
   "cell_type": "code",
   "execution_count": 5,
   "metadata": {},
   "outputs": [
    {
     "data": {
      "image/png": "[encoded data removed]",
      "text/plain": [
       "<Figure size 432x288 with 1 Axes>"
      ]
     },
     "metadata": {},
     "output_type": "display_data"
    },
    {
     "name": "stdout",
     "output_type": "stream",
     "text": [
      "Value at location 59999 is: 8\n"
     ]
    }
   ],
   "source": [
    "import matplotlib.pyplot as plt\n",
    "\n",
    "# following line contains a 'magic function' to plot figures on jupyter notebooks\n",
    "%matplotlib inline \n",
    "\n",
    "digit = train_images[59999] # let's observe the last image in the training set\n",
    "plt.imshow(digit, cmap=plt.cm.binary)\n",
    "plt.show()\n",
    "\n",
    "# to verify wheather the label is correct or not\n",
    "print('Value at location 59999 is: {}'.format(train_labels[59999]))"
   ]
  },
  {
   "cell_type": "markdown",
   "metadata": {},
   "source": [
    "Now let's first build our convolutional neural network for this classification task. Then the above data will be fed to the model and lastly, the model will be tested on the test data to see if the model is correctly trained."
   ]
  },
  {
   "cell_type": "code",
   "execution_count": 7,
   "metadata": {},
   "outputs": [],
   "source": [
    "# import models and layers to define the model\n",
    "from keras import models\n",
    "from keras import layers\n",
    "\n",
    "# Sequential neural network is used\n",
    "model = models.Sequential()\n",
    "\n",
    "# add convolution layers\n",
    "model.add(layers.Conv2D(32, (3, 3), activation='relu', input_shape=(28, 28, 1)))\n",
    "model.add(layers.MaxPooling2D((2, 2)))\n",
    "model.add(layers.Conv2D(64, (3, 3), activation='relu'))\n",
    "model.add(layers.MaxPooling2D((2, 2)))\n",
    "model.add(layers.Conv2D(64, (3, 3), activation='relu'))\n",
    "\n",
    "model.add(layers.Flatten())\n",
    "\n",
    "# let's add 2 dense layers to the model\n",
    "model.add(layers.Dense(64, activation='relu'))\n",
    "model.add(layers.Dense(10, activation='softmax'))"
   ]
  },
  {
   "cell_type": "markdown",
   "metadata": {},
   "source": [
    "``` network = models.Sequential() ``` means that the model used is Sequential. Other types of models are also there. We will look into them in other tutorials.\n",
    "\n",
    "``` model.add(layers.Conv2D(32, (3, 3), activation='relu', input_shape=(28, 28, 1))) ``` means that this layer is of the type convolution. 32 indicates the number of filters and (3,3) indicates the size of the convolution kernal. Activation function is relu. The shape of the input to this layer is of the for 28 x 28 x 1.\n",
    "\n",
    "``` model.add(layers.MaxPooling2D((2, 2))) ``` [MaxPooling](https://computersciencewiki.org/index.php/Max-pooling_/_Pooling) layer is used. The use of doing maxpooling is that first of all it will make better learning of features and secondly it will help to downsample the image (intermittent features). So, when you flatten it before giveing it to the dense layer, its size will not be very large.\n",
    "\n",
    "``` network.add(layers.Dense(64, activation='relu')) ``` means that the layer that we have added is of type Dense and it contains 64 units. They are Densely connected (also known as fully connected layers). The activation function used is relu (Rectilinear unit).\n",
    "\n",
    "``` network.add(layers.Dense(10, activation='softmax')) ``` means that this layer is again of type Dense and contains 10 units. The activation function used is softmax. It is a 10 way softmax layer which means that it will return an array of 10 probabilities which will sum to 1 (each probability corresponds to each class from 0 to 9).\n",
    "\n",
    "Now, let's look at the summary of the model."
   ]
  },
  {
   "cell_type": "code",
   "execution_count": 8,
   "metadata": {},
   "outputs": [
    {
     "name": "stdout",
     "output_type": "stream",
     "text": [
      "_________________________________________________________________\n",
      "Layer (type)                 Output Shape              Param #   \n",
      "=================================================================\n",
      "conv2d_1 (Conv2D)            (None, 26, 26, 32)        320       \n",
      "_________________________________________________________________\n",
      "max_pooling2d_1 (MaxPooling2 (None, 13, 13, 32)        0         \n",
      "_________________________________________________________________\n",
      "conv2d_2 (Conv2D)            (None, 11, 11, 64)        18496     \n",
      "_________________________________________________________________\n",
      "max_pooling2d_2 (MaxPooling2 (None, 5, 5, 64)          0         \n",
      "_________________________________________________________________\n",
      "conv2d_3 (Conv2D)            (None, 3, 3, 64)          36928     \n",
      "_________________________________________________________________\n",
      "flatten_1 (Flatten)          (None, 576)               0         \n",
      "_________________________________________________________________\n",
      "dense_1 (Dense)              (None, 64)                36928     \n",
      "_________________________________________________________________\n",
      "dense_2 (Dense)              (None, 10)                650       \n",
      "=================================================================\n",
      "Total params: 93,322\n",
      "Trainable params: 93,322\n",
      "Non-trainable params: 0\n",
      "_________________________________________________________________\n"
     ]
    }
   ],
   "source": [
    "model.summary()"
   ]
  },
  {
   "cell_type": "markdown",
   "metadata": {},
   "source": [
    "It can be seen that the first layer's output size is 26 x 26 x 32. Why 26 x 26 and not 28 (since, input size is 28 x 28)? [This](https://en.wikipedia.org/wiki/Convolutional_neural_network) might be helpful in understanding it. As a rule of thumb, just remember that with default stride (=1), the output from any convolutional 2D layer is (input-2). 32 are the number of filters used.\n",
    "\n",
    "To calculate the number of parameters (in this case), use the following [formula](https://stackoverflow.com/a/42787467):\n",
    "#parameters = (#input_filters * filter_size + b) * #output_filters\n",
    "\n",
    "where,\n",
    "b = Number of bias term, which is equal to 1.\n",
    "filter_size = 3 * 3 (for example)\n",
    "\n",
    "Now, let's compile the model by using appropriate optimizer, loss function and evaluation metric."
   ]
  },
  {
   "cell_type": "code",
   "execution_count": 9,
   "metadata": {},
   "outputs": [],
   "source": [
    "model.compile(optimizer='rmsprop', loss='categorical_crossentropy', metrics=['accuracy'])"
   ]
  },
  {
   "cell_type": "markdown",
   "metadata": {},
   "source": [
    "The model is ready now. We'll just need to feed the data into the model. To feed in the data, the data needs to be reshaped in the form which is expected by the model. We'd also need to convert all the values to the closed inveral [0,1]. To convert each image in the interval 0 to 1, we'd need some information about these images. Since, these images are greyscale, the maximum value must be 255 and minimum must be 0. We can also check this from the dataset."
   ]
  },
  {
   "cell_type": "code",
   "execution_count": 10,
   "metadata": {},
   "outputs": [],
   "source": [
    "train_images = train_images.reshape((60000, 28, 28, 1)) # since the input to the model is of the shape 28x28\n",
    "train_images = train_images.astype('float32')/255 # model expects floating point values in 99% of the cases\n",
    "test_images = test_images.reshape((10000, 28, 28, 1)) # since the input to the model is of the shape 28x28\n",
    "test_images = test_images.astype('float32')/255 # model expects floating point values in 99% of the cases"
   ]
  },
  {
   "cell_type": "markdown",
   "metadata": {},
   "source": [
    "Let's also convert labels to binary categorical form. Keras provides an inbuilt function for doing it."
   ]
  },
  {
   "cell_type": "code",
   "execution_count": 11,
   "metadata": {},
   "outputs": [],
   "source": [
    "from keras.utils import to_categorical\n",
    "\n",
    "train_labels = to_categorical(train_labels)\n",
    "test_labels = to_categorical(test_labels)"
   ]
  },
  {
   "cell_type": "markdown",
   "metadata": {},
   "source": [
    "Now, the data se entirely ready to be fed into the neural network. We will use fit() function to train the model. The first parameter to the following function are the training images, next argument is the label list. The named argument epoch specifies the number of iterations. Batch size defines the number of samples you want to use at one go.\n",
    "\n",
    "Note that, 1 iteration corresponds to training of all the samples not just 128 (in this case).  Batch represents the number of samples you want to use at a time. (More about it in further tutorials)"
   ]
  },
  {
   "cell_type": "code",
   "execution_count": 12,
   "metadata": {},
   "outputs": [
    {
     "name": "stdout",
     "output_type": "stream",
     "text": [
      "Epoch 1/5\n",
      "60000/60000 [==============================] - 73s 1ms/step - loss: 0.2383 - acc: 0.9240\n",
      "Epoch 2/5\n",
      "60000/60000 [==============================] - 69s 1ms/step - loss: 0.0547 - acc: 0.9828\n",
      "Epoch 3/5\n",
      "60000/60000 [==============================] - 75s 1ms/step - loss: 0.0367 - acc: 0.9886\n",
      "Epoch 4/5\n",
      "60000/60000 [==============================] - 73s 1ms/step - loss: 0.0265 - acc: 0.9917\n",
      "Epoch 5/5\n",
      "60000/60000 [==============================] - 72s 1ms/step - loss: 0.0212 - acc: 0.9932\n"
     ]
    },
    {
     "data": {
      "text/plain": [
       "<keras.callbacks.History at 0x7fb1188fefd0>"
      ]
     },
     "execution_count": 12,
     "metadata": {},
     "output_type": "execute_result"
    }
   ],
   "source": [
    "model.fit(train_images, train_labels, epochs=5, batch_size=128)"
   ]
  },
  {
   "cell_type": "markdown",
   "metadata": {},
   "source": [
    "Two quantities can be seen after each iteration. Loss and the accuracy of the model. After 5 iterations, the model has achieved 98.89% accuracy. Now, let's see how is it performing on the test set. We use evaluate() function for evaluating it on the test set. The function returns the loss and the accuracy of the model on the test set. "
   ]
  },
  {
   "cell_type": "code",
   "execution_count": 13,
   "metadata": {},
   "outputs": [
    {
     "name": "stdout",
     "output_type": "stream",
     "text": [
      "10000/10000 [==============================] - 5s 514us/step\n"
     ]
    },
    {
     "data": {
      "text/plain": [
       "0.9928"
      ]
     },
     "execution_count": 13,
     "metadata": {},
     "output_type": "execute_result"
    }
   ],
   "source": [
    "test_loss, test_acc = model.evaluate(test_images, test_labels)\n",
    "test_acc"
   ]
  },
  {
   "cell_type": "markdown",
   "metadata": {},
   "source": [
    "We have achieved 99.28% accuracy on the test set."
   ]
  }
 ],
 "metadata": {
  "kernelspec": {
   "display_name": "Python 3",
   "language": "python",
   "name": "python3"
  },
  "language_info": {
   "codemirror_mode": {
    "name": "ipython",
    "version": 3
   },
   "file_extension": ".py",
   "mimetype": "text/x-python",
   "name": "python",
   "nbconvert_exporter": "python",
   "pygments_lexer": "ipython3",
   "version": "3.6.4"
  }
 },
 "nbformat": 4,
 "nbformat_minor": 2
}
